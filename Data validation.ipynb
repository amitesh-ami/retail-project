{
 "cells": [
  {
   "cell_type": "code",
   "execution_count": 208,
   "metadata": {},
   "outputs": [],
   "source": [
    "# importing required libraries\n",
    "import os\n",
    "import json\n",
    "import shutil\n",
    "import glob\n",
    "import pandas as pd"
   ]
  },
  {
   "cell_type": "code",
   "execution_count": 209,
   "metadata": {},
   "outputs": [],
   "source": [
    "# loading a data file\n",
    "df=pd.read_csv(r'C:\\Users\\Ami\\projects\\Raw-Data\\Retail-data_01.csv') "
   ]
  },
  {
   "cell_type": "code",
   "execution_count": 210,
   "metadata": {},
   "outputs": [
    {
     "data": {
      "text/plain": [
       "hour                       object\n",
       "order_id                  float64\n",
       "customer_id               float64\n",
       "product_id                float64\n",
       "product_price             float64\n",
       "variant_id                float64\n",
       "orders                      int64\n",
       "gross_sales               float64\n",
       "discounts                 float64\n",
       "returns                   float64\n",
       "net_sales                 float64\n",
       "shipping                  float64\n",
       "taxes                     float64\n",
       "total_sales               float64\n",
       "ordered_item_quantity       int64\n",
       "net_quantity                int64\n",
       "returned_item_quantity      int64\n",
       "order_name                 object\n",
       "product_type               object\n",
       "product_title              object\n",
       "product_vendor             object\n",
       "variant_title              object\n",
       "api_client_title           object\n",
       "dtype: object"
      ]
     },
     "execution_count": 210,
     "metadata": {},
     "output_type": "execute_result"
    }
   ],
   "source": [
    "df.dtypes"
   ]
  },
  {
   "cell_type": "code",
   "execution_count": 211,
   "metadata": {},
   "outputs": [
    {
     "data": {
      "text/plain": [
       "['object',\n",
       " 'float64',\n",
       " 'float64',\n",
       " 'float64',\n",
       " 'float64',\n",
       " 'float64',\n",
       " 'int64',\n",
       " 'float64',\n",
       " 'float64',\n",
       " 'float64',\n",
       " 'float64',\n",
       " 'float64',\n",
       " 'float64',\n",
       " 'float64',\n",
       " 'int64',\n",
       " 'int64',\n",
       " 'int64',\n",
       " 'object',\n",
       " 'object',\n",
       " 'object',\n",
       " 'object',\n",
       " 'object',\n",
       " 'object']"
      ]
     },
     "execution_count": 211,
     "metadata": {},
     "output_type": "execute_result"
    }
   ],
   "source": [
    "a= list(map(lambda x : str(x).replace(\"dtype('\",\"\").replace(\"')\",\"\"),df.dtypes.values))\n",
    "a"
   ]
  },
  {
   "cell_type": "markdown",
   "metadata": {},
   "source": [
    "# Creating schema"
   ]
  },
  {
   "cell_type": "code",
   "execution_count": 212,
   "metadata": {},
   "outputs": [],
   "source": [
    "col_dict = dict(zip(list(df),a))"
   ]
  },
  {
   "cell_type": "code",
   "execution_count": 213,
   "metadata": {},
   "outputs": [
    {
     "data": {
      "text/plain": [
       "{'columns': {'hour': 'object',\n",
       "  'order_id': 'float64',\n",
       "  'customer_id': 'float64',\n",
       "  'product_id': 'float64',\n",
       "  'product_price': 'float64',\n",
       "  'variant_id': 'float64',\n",
       "  'orders': 'int64',\n",
       "  'gross_sales': 'float64',\n",
       "  'discounts': 'float64',\n",
       "  'returns': 'float64',\n",
       "  'net_sales': 'float64',\n",
       "  'shipping': 'float64',\n",
       "  'taxes': 'float64',\n",
       "  'total_sales': 'float64',\n",
       "  'ordered_item_quantity': 'int64',\n",
       "  'net_quantity': 'int64',\n",
       "  'returned_item_quantity': 'int64',\n",
       "  'order_name': 'object',\n",
       "  'product_type': 'object',\n",
       "  'product_title': 'object',\n",
       "  'product_vendor': 'object',\n",
       "  'variant_title': 'object',\n",
       "  'api_client_title': 'object'}}"
      ]
     },
     "execution_count": 213,
     "metadata": {},
     "output_type": "execute_result"
    }
   ],
   "source": [
    "col = {'columns':col_dict}\n",
    "col"
   ]
  },
  {
   "cell_type": "code",
   "execution_count": 214,
   "metadata": {},
   "outputs": [],
   "source": [
    "q= {\n",
    "    \"file_name\" : \"Retail-data_01.csv\",\n",
    "    \"Number_of_columns\" : len(df.columns)\n",
    "}"
   ]
  },
  {
   "cell_type": "code",
   "execution_count": 215,
   "metadata": {},
   "outputs": [],
   "source": [
    "q.update(col)"
   ]
  },
  {
   "cell_type": "code",
   "execution_count": 216,
   "metadata": {},
   "outputs": [],
   "source": [
    "with open('schema_db.json','w') as file:\n",
    "    json.dump(q,file,indent=1)"
   ]
  },
  {
   "cell_type": "markdown",
   "metadata": {},
   "source": [
    "# *Validating the files with schema*"
   ]
  },
  {
   "cell_type": "code",
   "execution_count": 217,
   "metadata": {},
   "outputs": [],
   "source": [
    "list_of_files=os.listdir(r'C:\\Users\\Ami\\projects\\Raw-Data')"
   ]
  },
  {
   "cell_type": "code",
   "execution_count": 218,
   "metadata": {},
   "outputs": [
    {
     "data": {
      "text/plain": [
       "['Retail-data_01.csv',\n",
       " 'Retail-data_02.csv',\n",
       " 'Retail-data_03.csv',\n",
       " 'Retail-data_05.csv',\n",
       " 'Retail-data_06.csv',\n",
       " 'Retail-data_07.csv',\n",
       " 'Retail-data_08.csv',\n",
       " 'Retail-data_09.csv',\n",
       " 'Retail-data_10.csv',\n",
       " 'Retail-data_11.csv',\n",
       " 'Retail-data_12.csv',\n",
       " 'Retail-data_13.csv',\n",
       " 'Retail-data_14.csv',\n",
       " 'Retail-data_15.csv',\n",
       " 'Retail-data_16.csv',\n",
       " 'Retail-data_17.csv']"
      ]
     },
     "execution_count": 218,
     "metadata": {},
     "output_type": "execute_result"
    }
   ],
   "source": [
    "list_of_files"
   ]
  },
  {
   "cell_type": "code",
   "execution_count": 219,
   "metadata": {},
   "outputs": [
    {
     "data": {
      "text/plain": [
       "'C:\\\\Users\\\\Ami\\\\DBproject\\\\DATA VALIDATION'"
      ]
     },
     "execution_count": 219,
     "metadata": {},
     "output_type": "execute_result"
    }
   ],
   "source": [
    "pwd"
   ]
  },
  {
   "cell_type": "code",
   "execution_count": 220,
   "metadata": {},
   "outputs": [],
   "source": [
    "with open('schema_db.json', 'r') as JSONFile:\n",
    "    schema = json.load(JSONFile)"
   ]
  },
  {
   "cell_type": "code",
   "execution_count": 221,
   "metadata": {
    "scrolled": true
   },
   "outputs": [
    {
     "name": "stdout",
     "output_type": "stream",
     "text": [
      "Retail-data_03.csv Bad file\n",
      "Retail-data_05.csv Bad file\n",
      "Retail-data_06.csv Bad file\n",
      "Retail-data_07.csv Bad file\n",
      "Retail-data_08.csv Bad file\n",
      "Retail-data_09.csv Bad file\n",
      "Retail-data_10.csv Bad file\n",
      "Retail-data_11.csv Bad file\n"
     ]
    }
   ],
   "source": [
    "for file in list_of_files:\n",
    "    #print(file)\n",
    "    f = pd.read_csv(file)\n",
    "    no_of_col_in_file=f.shape[1]\n",
    "    #comparing number of columns and name of columns in the file with schema\n",
    "    if len(schema['columns']) == len(f.columns) and list(f) == list(schema['columns'])  :\n",
    "        for c in list(f):\n",
    "            if df[c].dtype == schema['columns'][c]:    # comparing datatype of columns with the schema\n",
    "                #print('Good file')\n",
    "                shutil.copy(src=file,dst=r'C:\\Users\\Ami\\DBproject\\DATA VALIDATION\\validated')\n",
    "            else:\n",
    "                print(file, 'Bad file')\n",
    "                shutil.copy(src=file,dst=r'C:\\Users\\Ami\\DBproject\\DATA VALIDATION\\unvalidated')\n",
    "    else:\n",
    "        print(file, 'Bad file')\n",
    "        shutil.copy(src=file,dst=r'C:\\Users\\Ami\\DBproject\\DATA VALIDATION\\unvalidated')\n"
   ]
  },
  {
   "cell_type": "markdown",
   "metadata": {},
   "source": [
    "# ** Checking null values"
   ]
  },
  {
   "cell_type": "code",
   "execution_count": 222,
   "metadata": {},
   "outputs": [],
   "source": [
    "def null_value_check(f) :\n",
    "    df = pd.read_csv(f)\n",
    "    print('List of null values in the file:', f)\n",
    "    for i in list(df.columns):\n",
    "        if df[i].isnull().sum() >0:\n",
    "            print(f'{i:{20}} {df[i].isnull().sum():{20}}')\n",
    "            \n",
    "    return ()                   "
   ]
  },
  {
   "cell_type": "code",
   "execution_count": 223,
   "metadata": {},
   "outputs": [
    {
     "name": "stdout",
     "output_type": "stream",
     "text": [
      "List of null values in the file: Retail-data_01.csv\n",
      "order_name                           5961\n",
      "product_type                        22861\n",
      "product_title                        6483\n",
      "product_vendor                      22366\n",
      "variant_title                       31316\n",
      "api_client_title                     5961\n",
      "List of null values in the file: Retail-data_02.csv\n",
      "order_name                           5961\n",
      "product_type                        22861\n",
      "product_title                        6483\n",
      "product_vendor                      22366\n",
      "variant_title                       31316\n",
      "api_client_title                     5961\n",
      "List of null values in the file: Retail-data_03.csv\n",
      "order_name                           5961\n",
      "product_type                        22861\n",
      "product_title                        6483\n",
      "product_vendor                      22366\n",
      "variant_title                       31316\n",
      "api_client_title                     5961\n",
      "List of null values in the file: Retail-data_05.csv\n",
      "order_name                           5961\n",
      "product_type                        22861\n",
      "product_title                        6483\n",
      "product_vendor                      22366\n",
      "variant_title                       31316\n",
      "api_client_title                     5961\n",
      "List of null values in the file: Retail-data_06.csv\n",
      "order_name                           5961\n",
      "product_type                        22861\n",
      "product_title                        6483\n",
      "product_vendor                      22366\n",
      "variant_title                       31316\n",
      "api_client_title                     5961\n",
      "List of null values in the file: Retail-data_07.csv\n",
      "order_name                           5961\n",
      "product_type                        22861\n",
      "product_title                        6483\n",
      "product_vendor                      22366\n",
      "variant_title                       31316\n",
      "api_client_title                     5961\n",
      "List of null values in the file: Retail-data_08.csv\n",
      "order_name                           5961\n",
      "product_type                        22861\n",
      "product_title                        6483\n",
      "product_vendor                      22366\n",
      "variant_title                       31316\n",
      "api_client_title                     5961\n",
      "List of null values in the file: Retail-data_09.csv\n",
      "order_name                           5961\n",
      "product_type                        22861\n",
      "product_title                        6483\n",
      "product_vendor                      22366\n",
      "variant_title                       31316\n",
      "api_client_title                     5961\n",
      "List of null values in the file: Retail-data_10.csv\n",
      "order_name                           5961\n",
      "product_type                        22861\n",
      "product_title                        6483\n",
      "product_vendor                      22366\n",
      "variant_title                       31316\n",
      "api_client_title                     5961\n",
      "List of null values in the file: Retail-data_11.csv\n",
      "order_name                           5961\n",
      "product_type                        22861\n",
      "product_title                        6483\n",
      "product_vendor                      22366\n",
      "variant_title                       31316\n",
      "api_client_title                     5961\n",
      "List of null values in the file: Retail-data_12.csv\n",
      "order_name                           5961\n",
      "product_type                        22861\n",
      "product_title                        6483\n",
      "product_vendor                      22366\n",
      "variant_title                       31316\n",
      "api_client_title                     5961\n",
      "List of null values in the file: Retail-data_13.csv\n",
      "order_name                           5961\n",
      "product_type                        22861\n",
      "product_title                        6483\n",
      "product_vendor                      22366\n",
      "variant_title                       31316\n",
      "api_client_title                     5961\n",
      "List of null values in the file: Retail-data_14.csv\n",
      "order_name                           5961\n",
      "product_type                        22861\n",
      "product_title                        6483\n",
      "product_vendor                      22366\n",
      "variant_title                       31316\n",
      "api_client_title                     5961\n",
      "List of null values in the file: Retail-data_15.csv\n",
      "order_name                           5961\n",
      "product_type                        22861\n",
      "product_title                        6483\n",
      "product_vendor                      22366\n",
      "variant_title                       31316\n",
      "api_client_title                     5961\n",
      "List of null values in the file: Retail-data_16.csv\n",
      "order_name                           5961\n",
      "product_type                        22861\n",
      "product_title                        6483\n",
      "product_vendor                      22366\n",
      "variant_title                       31316\n",
      "api_client_title                     5961\n",
      "List of null values in the file: Retail-data_17.csv\n",
      "order_name                           5961\n",
      "product_type                        22861\n",
      "product_title                        6483\n",
      "product_vendor                      22366\n",
      "variant_title                       31316\n",
      "api_client_title                     5961\n"
     ]
    }
   ],
   "source": [
    "for file in list_of_files:\n",
    "    null_value_check(file)"
   ]
  },
  {
   "cell_type": "code",
   "execution_count": null,
   "metadata": {},
   "outputs": [],
   "source": []
  }
 ],
 "metadata": {
  "kernelspec": {
   "display_name": "Python 3 (ipykernel)",
   "language": "python",
   "name": "python3"
  },
  "language_info": {
   "codemirror_mode": {
    "name": "ipython",
    "version": 3
   },
   "file_extension": ".py",
   "mimetype": "text/x-python",
   "name": "python",
   "nbconvert_exporter": "python",
   "pygments_lexer": "ipython3",
   "version": "3.9.13"
  },
  "vscode": {
   "interpreter": {
    "hash": "92e50f93cf6d3c7e4f50ffa4b247e72e4f4ac6413cfefd6b472de670868245a4"
   }
  }
 },
 "nbformat": 4,
 "nbformat_minor": 2
}
